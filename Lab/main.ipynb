{
 "cells": [
  {
   "cell_type": "markdown",
   "id": "1f342412",
   "metadata": {},
   "source": [
    "This is my first time for programming Quantum Circuit ! \n",
    "ิัby the way, all of this process, I have used Python for all through Qiskit that IBM Quantum Computing.\n",
    "\n",
    "------------------------------------------------------------------------------------\n",
    "\n",
    "นี้เป็นครั้งแรกของการเขียนโปรแกรมสำหรับการทำ Quantum Circuit ! \n",
    "โดยที่การทำงานทั้งหมดที่เกิดขึ้นจะเป็นการทำงานโดยใช้ภาษา Python ทั้งหมด \n",
    "ผ่าน Qiskit ของทาง IBM Quantum Computing"
   ]
  },
  {
   "cell_type": "markdown",
   "id": "803af1b1",
   "metadata": {},
   "source": [
    "1. การทำงานเบื้องต้นของวงจรควอนตัม (Basic Quantum Circuit)"
   ]
  },
  {
   "cell_type": "code",
   "execution_count": 1,
   "id": "dc6ed042",
   "metadata": {},
   "outputs": [
    {
     "data": {
      "text/html": [
       "<pre style=\"word-wrap: normal;white-space: pre;background: #fff0;line-height: 1.1;font-family: &quot;Courier New&quot;,Courier,monospace\">        \n",
       "qreg_0: \n",
       "        \n",
       "qreg_1: \n",
       "        </pre>"
      ],
      "text/plain": [
       "        \n",
       "qreg_0: \n",
       "        \n",
       "qreg_1: \n",
       "        "
      ]
     },
     "execution_count": 1,
     "metadata": {},
     "output_type": "execute_result"
    }
   ],
   "source": [
    "#import Qiskit \n",
    "from qiskit import *\n",
    "\n",
    "qc = QuantumCircuit()\n",
    "qr = QuantumRegister(2, \"qreg\")\n",
    "\n",
    "qc.add_register(qr)\n",
    "qc.qregs\n",
    "\n",
    "qc.draw()"
   ]
  },
  {
   "cell_type": "code",
   "execution_count": 2,
   "id": "3ddc15a2",
   "metadata": {},
   "outputs": [
    {
     "data": {
      "text/html": [
       "<pre style=\"word-wrap: normal;white-space: pre;background: #fff0;line-height: 1.1;font-family: &quot;Courier New&quot;,Courier,monospace\">        ┌───┐     \n",
       "qreg_0: ┤ H ├──■──\n",
       "        └───┘┌─┴─┐\n",
       "qreg_1: ─────┤ X ├\n",
       "             └───┘</pre>"
      ],
      "text/plain": [
       "        ┌───┐     \n",
       "qreg_0: ┤ H ├──■──\n",
       "        └───┘┌─┴─┐\n",
       "qreg_1: ─────┤ X ├\n",
       "             └───┘"
      ]
     },
     "execution_count": 2,
     "metadata": {},
     "output_type": "execute_result"
    }
   ],
   "source": [
    "qc.h(qr[0])\n",
    "qc.cx(qr[0],qr[1])\n",
    "qc.draw()\n",
    "\n"
   ]
  }
 ],
 "metadata": {
  "kernelspec": {
   "display_name": "Qiskit",
   "language": "python",
   "name": "python3"
  },
  "language_info": {
   "codemirror_mode": {
    "name": "ipython",
    "version": 3
   },
   "file_extension": ".py",
   "mimetype": "text/x-python",
   "name": "python",
   "nbconvert_exporter": "python",
   "pygments_lexer": "ipython3",
   "version": "3.10.18"
  }
 },
 "nbformat": 4,
 "nbformat_minor": 5
}
